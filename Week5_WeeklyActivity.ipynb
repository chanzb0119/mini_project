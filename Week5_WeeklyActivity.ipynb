{
 "cells": [
  {
   "cell_type": "code",
   "execution_count": 13,
   "id": "24457e68-2cfb-4df0-baae-4b6bed5a223f",
   "metadata": {},
   "outputs": [],
   "source": [
    "import cv2 as cv\n",
    "import numpy as np"
   ]
  },
  {
   "cell_type": "markdown",
   "id": "64ff9a7d-85f2-4e00-9cea-694ef6bde812",
   "metadata": {},
   "source": [
    "#### 1 Rotate image by 45 degrees without cropping the sides of the image. (Hint: There are 2 strategies to tackle these problems). Use \"lena.jfif\" as the input image.\n",
    "- Use external libraries imutils.\n",
    "- Modify the transformation matrix."
   ]
  },
  {
   "cell_type": "code",
   "execution_count": 14,
   "id": "639f342e-9cef-4f0a-ac93-0579cf108611",
   "metadata": {},
   "outputs": [],
   "source": [
    "# method 1\n",
    "lena = cv.imread(\"images/lena.jfif\")\n",
    "h, w = lena.shape[:2]\n",
    "center = (w/2, h/2)\n",
    "M = cv.getRotationMatrix2D(center, 45, 1.0)\n",
    "\n",
    "# Rotated image dimension\n",
    "abs_cos = abs(M[0, 0])\n",
    "abs_sin = abs(M[0, 1])\n",
    "new_width = int(h * abs_sin + w * abs_cos)\n",
    "new_height = int(h * abs_cos + w * abs_sin)\n",
    "\n",
    "M[0, 2] += (new_width / 2) - center[0]\n",
    "M[1, 2] += (new_height / 2) - center[1]\n",
    "\n",
    "rotated_lena = cv.warpAffine(lena, M, (new_width, new_height))\n",
    "cv.imshow(\"rotated\", rotated_lena)\n",
    "cv.waitKey(0)\n",
    "cv.destroyAllWindows()\n"
   ]
  },
  {
   "cell_type": "code",
   "execution_count": 15,
   "id": "d6807984-6ac3-4720-b5a2-4f2f849b0f92",
   "metadata": {},
   "outputs": [],
   "source": [
    "import imutils\n",
    "rotated = imutils.rotate_bound(lena, 45)\n",
    "cv.imshow(\"Rotated (imutils)\", rotated)\n",
    "cv.waitKey(0)\n",
    "cv.destroyAllWindows()"
   ]
  },
  {
   "cell_type": "markdown",
   "id": "897e43d0-ad43-4141-815f-ffe64ea53d8f",
   "metadata": {},
   "source": [
    "#### 2 Use the images with titles: \"flower.jfif\" and \"native-bee.png\". I want to put flower above an image. If I add two images, it will change color. If I blend it, I get a transparent effect. But I want it to be opaque. If it was a rectangular region, we could use the ROI as we did in the previous section. But flower is not a rectangular region. This is where bitwise operations, like AND, OR, NOT and XOR really come in handy. The associated functions are cv.bitwise_and(), cv.bitwise_or() and cv.bitwise_not(). You need to use cv.threshold function to segment the flower. Please refer to online documentation for more info. The result should resemble the following:"
   ]
  },
  {
   "cell_type": "code",
   "execution_count": 22,
   "id": "3438a413-fb09-45c4-8b32-57e32a92c7bd",
   "metadata": {},
   "outputs": [],
   "source": [
    "# Read the images\n",
    "flower = cv.imread(\"images/flower.jfif\", cv.IMREAD_UNCHANGED)\n",
    "bee = cv.imread(\"images/native-bee.png\", cv.IMREAD_UNCHANGED)\n",
    "\n",
    "flower_gray = cv.cvtColor(flower, cv.COLOR_BGR2GRAY)\n",
    "_, mask = cv.threshold(flower_gray, 75, 255, cv.THRESH_BINARY)\n",
    "\n",
    "mask_inv = cv.bitwise_not(mask)\n",
    "\n",
    "top_left_x = 0 \n",
    "top_left_y = 0  \n",
    "\n",
    "flower_height, flower_width = flower.shape[:2]\n",
    "roi = bee[top_left_y:top_left_y + flower_height, top_left_x:top_left_x + flower_width].copy()\n",
    "\n",
    "flower_fg = cv.bitwise_and(flower[..., :3], flower[..., :3], mask=mask)\n",
    "bee_bg = cv.bitwise_and(roi[..., :3], roi[..., :3], mask=mask_inv)\n",
    "\n",
    "if bee_bg.shape[2] != flower_fg.shape[2]:\n",
    "    bee_bg = cv.cvtColor(bee_bg, cv.COLOR_BGR2BGRA)\n",
    "\n",
    "result_roi = cv.add(bee_bg, flower_fg)\n",
    "result_roi_bgra = cv.cvtColor(result_roi, cv.COLOR_BGR2BGRA)\n",
    "bee[top_left_y:top_left_y + flower_height, top_left_x:top_left_x + flower_width] = result_roi_bgra\n",
    "\n",
    "cv.imshow(\"Final result\", bee)\n",
    "cv.waitKey(0)\n",
    "cv.destroyAllWindows()"
   ]
  },
  {
   "cell_type": "markdown",
   "id": "0053589d-9516-45e7-8a23-3ccd04799009",
   "metadata": {},
   "source": [
    "#### 3 Write a function that randomly crop the central region of an image. The method signature should be as shown in the following:\n",
    "random_center_crop(image, min_crop_ratio, max_crop_ratio)"
   ]
  },
  {
   "cell_type": "code",
   "execution_count": 23,
   "id": "fce474fd-293a-491b-8a93-4926b4a79a08",
   "metadata": {},
   "outputs": [],
   "source": [
    "def random_center_crop(image, min_crop_ratio, max_crop_ratio):\n",
    "    \n",
    "    if min_crop_ratio < 0.0 or min_crop_ratio > 1.0:\n",
    "        raise ValueError(\"min_crop_ratio should be between 0.0 and 1.0\")\n",
    "    if max_crop_ratio < 0.0 or max_crop_ratio > 1.0:\n",
    "        raise ValueError(\"max_crop_ratio should be between 0.0 and 1.0\")\n",
    "    if min_crop_ratio > max_crop_ratio:\n",
    "        raise ValueError(\"min_crop_ratio should not be greater than max_crop_ratio\")\n",
    "\n",
    "    # Get image dimensions\n",
    "    height, width = image.shape[:2]\n",
    "\n",
    "    # Calculate crop sizes based on ratios\n",
    "    min_crop_size = int(min(height, width) * min_crop_ratio)\n",
    "    max_crop_size = int(min(height, width) * max_crop_ratio)\n",
    "\n",
    "    # Randomly select crop size\n",
    "    crop_size = np.random.randint(min_crop_size, max_crop_size + 1)\n",
    "\n",
    "    # Calculate crop region\n",
    "    start_x = max(0, (width - crop_size) // 2)\n",
    "    start_y = max(0, (height - crop_size) // 2)\n",
    "    end_x = start_x + crop_size\n",
    "    end_y = start_y + crop_size\n",
    "\n",
    "    # Perform crop\n",
    "    cropped_image = image[start_y:end_y, start_x:end_x]\n",
    "\n",
    "    return cropped_image\n",
    "\n",
    "cropped = random_center_crop(lena, 0.5, 0.5)\n",
    "cv.imshow(\"cropped\", cropped)\n",
    "cv.waitKey(0)\n",
    "cv.destroyAllWindows()"
   ]
  },
  {
   "cell_type": "markdown",
   "id": "aa85bc09-a4a1-4919-93fc-2fdb893b6d34",
   "metadata": {},
   "source": [
    "#### 4 Aside from Gaussian noise, name another common type of noise. Write the code to demonstrate how the noise can be included in an image."
   ]
  },
  {
   "cell_type": "code",
   "execution_count": 24,
   "id": "2b41816a-9d9c-4142-a0aa-333a2d43761f",
   "metadata": {},
   "outputs": [],
   "source": [
    "def add_salt_and_pepper_noise(image, salt_prob, pepper_prob):\n",
    "    noisy = np.copy(image)\n",
    "    \n",
    "    # Salt noise\n",
    "    salt = np.random.random(image.shape[:2]) < salt_prob\n",
    "    noisy[salt] = 255\n",
    "    \n",
    "    # Pepper noise\n",
    "    pepper = np.random.random(image.shape[:2]) < pepper_prob\n",
    "    noisy[pepper] = 0\n",
    "    \n",
    "    return noisy\n",
    "\n",
    "noisy_img = add_salt_and_pepper_noise(lena, salt_prob=0.02, pepper_prob=0.02)\n",
    "\n",
    "cv.imshow('Original Image', lena)\n",
    "cv.imshow('Image with Salt and Pepper Noise', noisy_img)\n",
    "\n",
    "cv.waitKey(0)\n",
    "cv.destroyAllWindows()\n"
   ]
  }
 ],
 "metadata": {
  "kernelspec": {
   "display_name": "Python 3 (ipykernel)",
   "language": "python",
   "name": "python3"
  },
  "language_info": {
   "codemirror_mode": {
    "name": "ipython",
    "version": 3
   },
   "file_extension": ".py",
   "mimetype": "text/x-python",
   "name": "python",
   "nbconvert_exporter": "python",
   "pygments_lexer": "ipython3",
   "version": "3.12.4"
  }
 },
 "nbformat": 4,
 "nbformat_minor": 5
}
