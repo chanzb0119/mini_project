{
 "cells": [
  {
   "cell_type": "code",
   "execution_count": 12,
   "id": "289ad19b-2df8-4a7e-88f5-e11b3211f9dd",
   "metadata": {},
   "outputs": [],
   "source": [
    "import cv2 as cv\n",
    "import numpy as np\n",
    "from utils import display_image, display_images"
   ]
  },
  {
   "cell_type": "markdown",
   "id": "6cc13357-ded7-478d-bbe5-0fa6ccf27df2",
   "metadata": {},
   "source": [
    "#### 1"
   ]
  },
  {
   "cell_type": "code",
   "execution_count": 19,
   "id": "0ee7046c-f8d8-4e76-9404-7c9726451aa0",
   "metadata": {},
   "outputs": [],
   "source": [
    "k_3x3 = np.array([(0,-1,0), (-1,5,-1), (0,-1,0)])\n",
    "k_5x5 = np.ones((5,5)) * -1\n",
    "k_5x5[2][2] = 25\n",
    "\n",
    "img = cv.imread(\"images/native-bee.png\")"
   ]
  },
  {
   "cell_type": "code",
   "execution_count": 21,
   "id": "3d88c43f-3d5b-4d19-80b9-c380406fce1e",
   "metadata": {},
   "outputs": [],
   "source": [
    "dst_3x3 = cv.filter2D(img, -1, k_3x3)\n",
    "dst_5x5 = cv.filter2D(img, -1, k_5x5)\n",
    "\n",
    "display_images([img, dst_3x3, dst_5x5], (\"Original\", \"3x3\", \"5x5\"))"
   ]
  },
  {
   "cell_type": "markdown",
   "id": "626d3501-e98b-489f-b2e6-bc87c8333c1c",
   "metadata": {},
   "source": [
    "5x5 kernel overly shappens the image"
   ]
  },
  {
   "cell_type": "markdown",
   "id": "28d3fd86-140a-4c8e-a2fc-d47302d2944e",
   "metadata": {},
   "source": [
    "#### 2"
   ]
  },
  {
   "cell_type": "code",
   "execution_count": 17,
   "id": "64197356-5d9e-4e78-9f10-e10389e7d7eb",
   "metadata": {},
   "outputs": [],
   "source": [
    "img = cv.imread(\"images/noise_lena.jpg\")\n",
    "avg_filter = cv.blur(img, (3,3))\n",
    "gaussian_filter = cv.GaussianBlur(img, (3,3), 0)\n",
    "median_filter = cv.medianBlur(img, 3)\n",
    "display_images([img, avg_filter, gaussian_filter, median_filter],(\"Original\", \"Average Filter\", \"Gaussian Filter\", \"Median Filter\"))"
   ]
  },
  {
   "cell_type": "markdown",
   "id": "2fdd1453-ff66-4598-b16b-0cd27bbc8e3a",
   "metadata": {},
   "source": [
    "Average and gaussian filter do not remove the noises of the image. Median filter removes the noise effectively indicates that it is a salt and pepper noise"
   ]
  },
  {
   "cell_type": "markdown",
   "id": "389c1e07-6783-4cd3-b4c6-cf2a7f42021f",
   "metadata": {},
   "source": [
    "#### 3"
   ]
  },
  {
   "cell_type": "code",
   "execution_count": 31,
   "id": "7df8aa02-2fc1-4f2c-8f21-7fb4639f8b7e",
   "metadata": {},
   "outputs": [],
   "source": [
    "image = cv.imread('images/boat.jpg')\n",
    "gray = cv.cvtColor(image, cv.COLOR_BGR2GRAY)\n",
    "\n",
    "# Otsu thresholding\n",
    "_, thresh = cv.threshold(gray, 0, 255, cv.THRESH_BINARY_INV + cv.THRESH_OTSU)\n",
    "\n",
    "# Find contours \n",
    "contours, _ = cv.findContours(thresh, cv.RETR_EXTERNAL, cv.CHAIN_APPROX_SIMPLE)\n",
    "\n",
    "# Find the largest contour, get the coordinates \n",
    "largest_contour = max(contours, key=cv.contourArea)\n",
    "x, y, w, h = cv.boundingRect(largest_contour)\n",
    "\n",
    "# Draw the bounding box \n",
    "img_copy = image.copy()\n",
    "cv.rectangle(img_copy, (x, y), (x+w, y+h), (120, 10, 120), 1)\n",
    "\n",
    "display_image(\"result\", img_copy)"
   ]
  }
 ],
 "metadata": {
  "kernelspec": {
   "display_name": "Python 3 (ipykernel)",
   "language": "python",
   "name": "python3"
  },
  "language_info": {
   "codemirror_mode": {
    "name": "ipython",
    "version": 3
   },
   "file_extension": ".py",
   "mimetype": "text/x-python",
   "name": "python",
   "nbconvert_exporter": "python",
   "pygments_lexer": "ipython3",
   "version": "3.12.4"
  }
 },
 "nbformat": 4,
 "nbformat_minor": 5
}
