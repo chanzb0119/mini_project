{
 "cells": [
  {
   "cell_type": "code",
   "execution_count": null,
   "id": "0f66f6f2-0fee-4274-8e81-d48e5cd4af31",
   "metadata": {},
   "outputs": [],
   "source": []
  },
  {
   "cell_type": "markdown",
   "id": "1cc88232-687d-4527-8a80-43434bbf9544",
   "metadata": {},
   "source": [
    "## Exercises\n",
    "### 1\n",
    "\n",
    "| Data Type | Range |\n",
    "| ------- | --------- |\n",
    "| `uint8` | 0 to 255 |\n",
    "| `int8` | -128 to 127 |\n",
    "| `uint32` | 0 to 4,294,967,295 |\n",
    "| `int32` | −2,147,483,648 to 2,147,483,647 |\n"
   ]
  },
  {
   "cell_type": "markdown",
   "id": "71469ee1-4b05-449b-8f4a-713f40aef631",
   "metadata": {},
   "source": [
    "### 2"
   ]
  },
  {
   "cell_type": "code",
   "execution_count": 8,
   "id": "a88e25de-fc14-4822-b35d-9ff6547f90e6",
   "metadata": {},
   "outputs": [],
   "source": [
    "def even_odd(x):\n",
    "    if isinstance(x,int):\n",
    "        if x % 2 == 0:\n",
    "            return(f\"{x} is an even number\")\n",
    "        else:\n",
    "            return(f\"{x} is an odd number\")\n",
    "    else:\n",
    "        return(f\"{x} is not an integer\")"
   ]
  },
  {
   "cell_type": "markdown",
   "id": "aa666c4a-6b34-4ea9-b28d-f5aaaa1693fd",
   "metadata": {},
   "source": [
    "### 3"
   ]
  },
  {
   "cell_type": "code",
   "execution_count": 25,
   "id": "3bb01c57-a122-43a7-b930-6a3b42cdbc46",
   "metadata": {},
   "outputs": [
    {
     "name": "stdout",
     "output_type": "stream",
     "text": [
      " NumPy: 0.001057 seconds\n",
      " Python lists: 0.086000 seconds\n"
     ]
    }
   ],
   "source": [
    "import numpy as np\n",
    "import time\n",
    "\n",
    "SIZE = 1000000\n",
    "\n",
    "# Numpy array\n",
    "array1_np = np.arange(SIZE)\n",
    "array2_np = np.arange(SIZE)\n",
    "\n",
    "# Python list\n",
    "array1_list = list(range(SIZE))\n",
    "array2_list = list(range(SIZE))\n",
    "\n",
    "# Measure time for dot product using NumPy\n",
    "start_time = time.time()\n",
    "result_np_dot = np.dot(array1_np, array2_np)\n",
    "end_time = time.time()\n",
    "numpy_dot_time = end_time - start_time\n",
    "\n",
    "# Measure time for dot product using Python lists\n",
    "start_time = time.time()\n",
    "result_list_dot = sum(array1_list[i] * array2_list[i] for i in range(size))\n",
    "end_time = time.time()\n",
    "list_dot_time = end_time - start_time\n",
    "\n",
    "print(f\" NumPy: {numpy_dot_time:.6f} seconds\")\n",
    "print(f\" Python lists: {list_dot_time:.6f} seconds\")\n"
   ]
  },
  {
   "cell_type": "markdown",
   "id": "dabb4f71-5fb8-4a6e-84fd-6126c7219a09",
   "metadata": {},
   "source": [
    "### 4"
   ]
  },
  {
   "cell_type": "code",
   "execution_count": 27,
   "id": "5bcd41a1-85b3-4962-9671-490c11b26676",
   "metadata": {},
   "outputs": [
    {
     "name": "stdout",
     "output_type": "stream",
     "text": [
      "Initial my_arr:  [0 1 2 3 4 5 6 7 8 9]\n",
      "Initial arr_slice:  [0 1 2 3 4 5 6 7 8 9]\n",
      "my_arr:  [55  1  2  3  4  5  6  7  8  9]\n",
      "arr_slice:  [55  1  2  3  4  5  6  7  8  9]\n"
     ]
    }
   ],
   "source": [
    " # create a 1D array\n",
    "my_arr = np.arange(10)\n",
    "print(\"Initial my_arr: \", my_arr)\n",
    "arr_slice = my_arr\n",
    "print(\"Initial arr_slice: \", arr_slice)\n",
    "\n",
    "# change the first element of arr_slice\n",
    "arr_slice[0] = 55\n",
    "\n",
    "print(\"my_arr: \", my_arr)\n",
    "print(\"arr_slice: \", arr_slice)"
   ]
  },
  {
   "cell_type": "code",
   "execution_count": 28,
   "id": "b337878f-6ee5-40dc-8620-54f028805f77",
   "metadata": {},
   "outputs": [
    {
     "name": "stdout",
     "output_type": "stream",
     "text": [
      "Initial my_arr:  [0 1 2 3 4 5 6 7 8 9]\n",
      "Initial arr_slice:  [0 1 2 3 4 5 6 7 8 9]\n",
      "my_arr:  [0 1 2 3 4 5 6 7 8 9]\n",
      "arr_slice:  [55  1  2  3  4  5  6  7  8  9]\n"
     ]
    }
   ],
   "source": [
    "#solution\n",
    "my_arr = np.arange(10)\n",
    "print(\"Initial my_arr: \", my_arr)\n",
    "\n",
    "#instead of storing the reference of original array, copy the array\n",
    "arr_slice = my_arr.copy()\n",
    "print(\"Initial arr_slice: \", arr_slice)\n",
    "\n",
    "# change the first element of arr_slice\n",
    "arr_slice[0] = 55\n",
    "\n",
    "print(\"my_arr: \", my_arr)\n",
    "print(\"arr_slice: \", arr_slice)"
   ]
  },
  {
   "cell_type": "markdown",
   "id": "61c71d9d-0590-4ee3-9d79-234a3d451439",
   "metadata": {},
   "source": [
    "### 5"
   ]
  },
  {
   "cell_type": "code",
   "execution_count": 33,
   "id": "942bf3b0-1d73-42c3-bbc1-b4ec25af0bca",
   "metadata": {},
   "outputs": [
    {
     "data": {
      "image/png": "[encoded data removed]",
      "text/plain": [
       "<Figure size 640x480 with 1 Axes>"
      ]
     },
     "metadata": {},
     "output_type": "display_data"
    }
   ],
   "source": [
    "import numpy as np\n",
    "import matplotlib.pyplot as plt\n",
    "\n",
    "height = 250\n",
    "width = 250\n",
    "\n",
    "# Create a black image \n",
    "black = np.zeros((height, width))\n",
    "\n",
    "# Define an approximate radius\n",
    "radius = width // 4\n",
    "\n",
    "for y in range(height):\n",
    "    for x in range(width):\n",
    "        #General equation of circle\n",
    "        if (x - width//2)**2 + (y - height//2)**2 <= radius**2:\n",
    "            image[y, x] = 1  \n",
    "\n",
    "plt.imshow(image, cmap='gray')\n",
    "plt.show()"
   ]
  },
  {
   "cell_type": "code",
   "execution_count": null,
   "id": "bf488d27-9e14-43a3-9de4-660cf4fdeda1",
   "metadata": {},
   "outputs": [],
   "source": []
  }
 ],
 "metadata": {
  "kernelspec": {
   "display_name": "Python 3 (ipykernel)",
   "language": "python",
   "name": "python3"
  },
  "language_info": {
   "codemirror_mode": {
    "name": "ipython",
    "version": 3
   },
   "file_extension": ".py",
   "mimetype": "text/x-python",
   "name": "python",
   "nbconvert_exporter": "python",
   "pygments_lexer": "ipython3",
   "version": "3.12.4"
  }
 },
 "nbformat": 4,
 "nbformat_minor": 5
}
